{
 "cells": [
  {
   "cell_type": "markdown",
   "metadata": {},
   "source": [
    "## Forest Cover Dataset\n",
    "\n",
    "This dataset contains tree observations from four areas of a national forest. There are a total of 581012 data points. The goal is to predict the type of the tree based on 12 features. The dataset consists of a mix of numerical and categorical data. The categorical data has already been one-hot encoded. There are 7 class labels which are representative of the types of trees. \n",
    "\n",
    "For more details on the data format and the differet values for the features, refer to this link: https://www.kaggle.com/uciml/forest-cover-type-dataset\n",
    "\n",
    "Your objective in this exercise is to fit a decision tree model for this data and obtain accuracies of about 94%. \n",
    "\n",
    "Additional exercise: Fit a Random Forest Classifier model for the same data. Do you see any notable differences?"
   ]
  },
  {
   "cell_type": "code",
   "execution_count": 1,
   "metadata": {
    "collapsed": true
   },
   "outputs": [],
   "source": [
    "# Import necessary packages\n",
    "import pandas as pd\n",
    "import numpy as np\n",
    "from sklearn.model_selection import train_test_split\n",
    "from sklearn.tree import DecisionTreeClassifier\n",
    "from sklearn.ensemble import RandomForestClassifier"
   ]
  },
  {
   "cell_type": "code",
   "execution_count": 2,
   "metadata": {
    "collapsed": true
   },
   "outputs": [],
   "source": [
    "# Read the csv file and assign the features and labels to seperate variables\n",
    "data = pd.read_csv(\"covtype.csv\")\n",
    "\n",
    "X = data.iloc[:,:54]  # all rows, all the features and no labels\n",
    "y = data.iloc[:, 54]  # all rows, label only"
   ]
  },
  {
   "cell_type": "code",
   "execution_count": 3,
   "metadata": {
    "collapsed": true
   },
   "outputs": [],
   "source": [
    "# Split your data into train and test datasets\n",
    "X_train, X_test, y_train, y_test = train_test_split(X,y,test_size=0.2,random_state=4)"
   ]
  },
  {
   "cell_type": "code",
   "execution_count": 4,
   "metadata": {},
   "outputs": [
    {
     "data": {
      "text/plain": [
       "DecisionTreeClassifier(class_weight='balanced', criterion='entropy',\n",
       "            max_depth=None, max_features=None, max_leaf_nodes=None,\n",
       "            min_impurity_decrease=0.0, min_impurity_split=None,\n",
       "            min_samples_leaf=1, min_samples_split=2,\n",
       "            min_weight_fraction_leaf=0.0, presort=False, random_state=None,\n",
       "            splitter='best')"
      ]
     },
     "execution_count": 4,
     "metadata": {},
     "output_type": "execute_result"
    }
   ],
   "source": [
    "# Fit a Decision Tree on your training data\n",
    "model_tree = DecisionTreeClassifier(criterion=\"entropy\", class_weight=\"balanced\")\n",
    "model_tree.fit(X_train, y_train)"
   ]
  },
  {
   "cell_type": "code",
   "execution_count": 27,
   "metadata": {
    "collapsed": true
   },
   "outputs": [],
   "source": [
    "# Validate the accuracy of the Decision Tree on your test dataset and print the accuracy.\n",
    "y_pred = model_tree.predict(X_test)\n",
    "print (model_tree.score(X_test, y_test)*100)"
   ]
  },
  {
   "cell_type": "code",
   "execution_count": 29,
   "metadata": {},
   "outputs": [
    {
     "name": "stdout",
     "output_type": "stream",
     "text": [
      "0.953658683511\n"
     ]
    }
   ],
   "source": [
    "# Fit a random forest classifier to the training data \n",
    "clf = RandomForestClassifier(n_estimators=50, n_jobs=-1)\n",
    "clf.fit(X_train, y_train)\n",
    "y_pred = clf.predict_proba(X_test)\n"
   ]
  },
  {
   "cell_type": "code",
   "execution_count": null,
   "metadata": {
    "collapsed": true
   },
   "outputs": [],
   "source": [
    "# Validate the accuracy of the Random Forest Classifier on your test dataset and print the accuracy.\n",
    "y_acc = clf.score(X_test, y_test)\n",
    "print (y_acc)"
   ]
  }
 ],
 "metadata": {
  "kernelspec": {
   "display_name": "Python 3",
   "language": "python",
   "name": "python3"
  },
  "language_info": {
   "codemirror_mode": {
    "name": "ipython",
    "version": 3
   },
   "file_extension": ".py",
   "mimetype": "text/x-python",
   "name": "python",
   "nbconvert_exporter": "python",
   "pygments_lexer": "ipython3",
   "version": "3.6.2"
  }
 },
 "nbformat": 4,
 "nbformat_minor": 2
}
