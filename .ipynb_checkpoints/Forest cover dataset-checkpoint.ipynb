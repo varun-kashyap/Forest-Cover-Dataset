{
 "cells": [
  {
   "cell_type": "markdown",
   "metadata": {},
   "source": [
    "## Forest Cover Dataset\n",
    "\n",
    "This dataset contains tree observations from four areas of a national forest. There are a total of 581012 data points. The goal is to predict the type of the tree based on 12 features. The dataset consists of a mix of numerical and categorical data. The categorical data has already been one-hot encoded. There are 7 class labels which are representative of the types of trees. \n",
    "\n",
    "For more details on the data format and the differet values for the features, refer to this link: https://www.kaggle.com/uciml/forest-cover-type-dataset\n",
    "\n",
    "Your objective in this exercise is to fit a decision tree model for this data and obtain accuracies of about 94%. \n",
    "\n",
    "Additional exercise: Fit a Random Forest Classifier model for the same data. Do you see any notable differences?"
   ]
  },
  {
   "cell_type": "code",
   "execution_count": 30,
   "metadata": {
    "collapsed": true
   },
   "outputs": [],
   "source": [
    "# Import necessary packages"
   ]
  },
  {
   "cell_type": "code",
   "execution_count": 31,
   "metadata": {
    "collapsed": true
   },
   "outputs": [],
   "source": [
    "# Read the csv file and assign the features and labels to seperate variables"
   ]
  },
  {
   "cell_type": "code",
   "execution_count": 32,
   "metadata": {
    "collapsed": true
   },
   "outputs": [],
   "source": [
    "# Split your data into train and test datasets"
   ]
  },
  {
   "cell_type": "code",
   "execution_count": 33,
   "metadata": {},
   "outputs": [],
   "source": [
    "# Fit a Decision Tree on your training data"
   ]
  },
  {
   "cell_type": "code",
   "execution_count": 34,
   "metadata": {
    "collapsed": true
   },
   "outputs": [],
   "source": [
    "# Validate the accuracy of the Decision Tree on your test dataset and print the accuracy."
   ]
  },
  {
   "cell_type": "code",
   "execution_count": 35,
   "metadata": {},
   "outputs": [],
   "source": [
    "# Fit a random forest classifier to the training data "
   ]
  },
  {
   "cell_type": "code",
   "execution_count": 36,
   "metadata": {
    "collapsed": true
   },
   "outputs": [],
   "source": [
    "# Validate the accuracy of the Random Forest Classifier on your test dataset and print the accuracy."
   ]
  }
 ],
 "metadata": {
  "kernelspec": {
   "display_name": "Python 2",
   "language": "python",
   "name": "python2"
  },
  "language_info": {
   "codemirror_mode": {
    "name": "ipython",
    "version": 2
   },
   "file_extension": ".py",
   "mimetype": "text/x-python",
   "name": "python",
   "nbconvert_exporter": "python",
   "pygments_lexer": "ipython2",
   "version": "2.7.14"
  }
 },
 "nbformat": 4,
 "nbformat_minor": 2
}
